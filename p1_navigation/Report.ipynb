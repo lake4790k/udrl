{
 "cells": [
  {
   "cell_type": "markdown",
   "metadata": {},
   "source": [
    "# Navigation\n",
    "\n",
    "---\n"
   ]
  },
  {
   "cell_type": "markdown",
   "metadata": {},
   "source": [
    "### Setup"
   ]
  },
  {
   "cell_type": "code",
   "execution_count": 1,
   "metadata": {},
   "outputs": [],
   "source": [
    "from unityagents import UnityEnvironment\n",
    "import numpy as np\n",
    "from collections import deque\n",
    "import matplotlib.pyplot as plt\n",
    "import torch\n",
    "%matplotlib inline"
   ]
  },
  {
   "cell_type": "markdown",
   "metadata": {},
   "source": [
    "**_Before running the code cell below_**, change the `file_name` parameter to match the location of the Unity environment that you downloaded.\n",
    "\n",
    "- **Mac**: `\"path/to/Banana.app\"`\n",
    "- **Windows** (x86): `\"path/to/Banana_Windows_x86/Banana.exe\"`\n",
    "- **Windows** (x86_64): `\"path/to/Banana_Windows_x86_64/Banana.exe\"`\n",
    "- **Linux** (x86): `\"path/to/Banana_Linux/Banana.x86\"`\n",
    "- **Linux** (x86_64): `\"path/to/Banana_Linux/Banana.x86_64\"`\n",
    "- **Linux** (x86, headless): `\"path/to/Banana_Linux_NoVis/Banana.x86\"`\n",
    "- **Linux** (x86_64, headless): `\"path/to/Banana_Linux_NoVis/Banana.x86_64\"`"
   ]
  },
  {
   "cell_type": "code",
   "execution_count": 2,
   "metadata": {},
   "outputs": [
    {
     "name": "stderr",
     "output_type": "stream",
     "text": [
      "INFO:unityagents:\n",
      "'Academy' started successfully!\n",
      "Unity Academy name: Academy\n",
      "        Number of Brains: 1\n",
      "        Number of External Brains : 1\n",
      "        Lesson number : 0\n",
      "        Reset Parameters :\n",
      "\t\t\n",
      "Unity brain name: BananaBrain\n",
      "        Number of Visual Observations (per agent): 0\n",
      "        Vector Observation space type: continuous\n",
      "        Vector Observation space size (per agent): 37\n",
      "        Number of stacked Vector Observation: 1\n",
      "        Vector Action space type: discrete\n",
      "        Vector Action space size (per agent): 4\n",
      "        Vector Action descriptions: , , , \n"
     ]
    }
   ],
   "source": [
    "env = UnityEnvironment(file_name=\"Banana.app\", no_graphics=False)\n",
    "brain_name = env.brain_names[0]\n",
    "brain = env.brains[brain_name]"
   ]
  },
  {
   "cell_type": "code",
   "execution_count": 3,
   "metadata": {},
   "outputs": [],
   "source": [
    "env_info = env.reset(train_mode=True)[brain_name]\n",
    "action_size = brain.vector_action_space_size\n",
    "state = env_info.vector_observations[0]\n",
    "state_size = len(state)"
   ]
  },
  {
   "cell_type": "markdown",
   "metadata": {},
   "source": [
    "### Solution\n",
    "\n",
    "I used a Dqn agent with duelling architecture and double dqn learning to solve the environment.\n",
    "\n",
    "The `DuellingQNetwork` in `model.py` uses 2 linear layers of sizes 64, 16 with Relu activation followed by the outputs in the 3rd layer for the action advantage (size=action num) and state value (size=1) functions.\n",
    "\n",
    "In `dqn_agent.py` I left the default hyperparameters unchanged:\n",
    "\n",
    "`replay buffer size = 100000\n",
    "minibatch size = 64\n",
    "discount factor = 0.99\n",
    "TAU for soft update of target parameters = 1e-3\n",
    "learning rate = 5e-4\n",
    "UPDATE_EVERY = 4`\n",
    "\n",
    "Epsilon decay was 0.995 from 1.0 to 0.01 during training.\n",
    "\n",
    "I used gradient norm clipping to 1.\n",
    "\n",
    "When implementing the dueling architecture in `model.py` the action value is computed from the state value and advantage:\n",
    "`Q(s,a) = V(s) + A(a,s)`\n",
    "this wouldn't give a unique solution for V and A, so one needs to substruct the mean of the advantages from the sum to stabilize the solution. This shifts the absolute value of action values, but not their relative strength.\n",
    "\n",
    "The implementation of double dqn in `dqn_agent.py` requires only a simple modification compared to vanilla dqn: the action for the next state is determined with the local updating network and only the target network is only used for the Q values for this best action."
   ]
  },
  {
   "cell_type": "code",
   "execution_count": 4,
   "metadata": {},
   "outputs": [],
   "source": [
    "from dqn_agent import Agent\n",
    "\n",
    "def train(agent, n_episodes=1000, max_t=1000, eps_start=1.0, eps_end=0.01, eps_decay=0.995):\n",
    "    \"\"\"Deep Q-Learning.\n",
    "    \n",
    "    Params\n",
    "    ======\n",
    "        n_episodes (int): maximum number of training episodes\n",
    "        max_t (int): maximum number of timesteps per episode\n",
    "        eps_start (float): starting value of epsilon, for epsilon-greedy action selection\n",
    "        eps_end (float): minimum value of epsilon\n",
    "        eps_decay (float): multiplicative factor (per episode) for decreasing epsilon\n",
    "    \"\"\"\n",
    "    scores = []                        # list containing scores from each episode\n",
    "    scores_window = deque(maxlen=100)  # last 100 scores\n",
    "    eps = eps_start                    # initialize epsilon\n",
    "    solved = False\n",
    "    for i_episode in range(1, n_episodes+1):\n",
    "        env_info = env.reset(train_mode=True)[brain_name]\n",
    "        state = env_info.vector_observations[0]\n",
    "        score = 0\n",
    "        for t in range(max_t):\n",
    "            action = agent.act(state, eps)\n",
    "            env_info = env.step(action)[brain_name]\n",
    "            next_state = env_info.vector_observations[0]\n",
    "            reward = env_info.rewards[0]\n",
    "            done = env_info.local_done[0]\n",
    "            agent.step(state, action, reward, next_state, done)\n",
    "            state = next_state\n",
    "            score += reward\n",
    "            if done:\n",
    "                break \n",
    "        scores_window.append(score)       # save most recent score\n",
    "        scores.append(score)              # save most recent score\n",
    "        eps = max(eps_end, eps_decay*eps) # decrease epsilon\n",
    "        print('\\rEpisode {}\\tAverage Score: {:.2f} eps = {:.2f}'.format(i_episode, np.mean(scores_window), eps), end=\"\")\n",
    "        if i_episode % 50 == 0:\n",
    "            print('\\rEpisode {}\\tAverage Score: {:.2f} eps = {:.2f}'.format(i_episode, np.mean(scores_window), eps))\n",
    "        if not solved and np.mean(scores_window)>=13.0:\n",
    "            print('\\nEnvironment solved in {:d} episodes!\\tAverage Score: {:.2f}'.format(i_episode-100, np.mean(scores_window)))\n",
    "            torch.save(agent.qnetwork_local.state_dict(), 'checkpoint.pth')\n",
    "            solved = True\n",
    "            \n",
    "    torch.save(agent.qnetwork_local.state_dict(), 'checkpoint.pth')\n",
    "    return scores\n",
    "\n",
    "dqn = Agent(state_size= state_size, action_size= action_size, seed=0, double=False, duel=False)\n",
    "ddqn = Agent(state_size= state_size, action_size= action_size, seed=0, double=True, duel=True)"
   ]
  },
  {
   "cell_type": "markdown",
   "metadata": {},
   "source": [
    "### Results\n",
    "\n",
    "Since the network is small I trained on CPU only. Both dqn and duelling double dqn solved the task similarly around the 400th episode and also evolved similarly until the 1000th episode."
   ]
  },
  {
   "cell_type": "code",
   "execution_count": 5,
   "metadata": {},
   "outputs": [
    {
     "name": "stdout",
     "output_type": "stream",
     "text": [
      "Episode 50\tAverage Score: 0.40 eps = 0.78\n",
      "Episode 100\tAverage Score: 1.12 eps = 0.61\n",
      "Episode 150\tAverage Score: 2.91 eps = 0.47\n",
      "Episode 200\tAverage Score: 5.34 eps = 0.37\n",
      "Episode 250\tAverage Score: 7.27 eps = 0.29\n",
      "Episode 300\tAverage Score: 8.32 eps = 0.22\n",
      "Episode 350\tAverage Score: 9.95 eps = 0.177\n",
      "Episode 400\tAverage Score: 11.23 eps = 0.13\n",
      "Episode 450\tAverage Score: 11.97 eps = 0.10\n",
      "Episode 485\tAverage Score: 13.09 eps = 0.09\n",
      "Environment solved in 385 episodes!\tAverage Score: 13.09\n",
      "Episode 500\tAverage Score: 13.16 eps = 0.08\n",
      "Episode 550\tAverage Score: 13.72 eps = 0.06\n",
      "Episode 600\tAverage Score: 13.96 eps = 0.05\n",
      "Episode 650\tAverage Score: 14.27 eps = 0.04\n",
      "Episode 700\tAverage Score: 14.91 eps = 0.03\n",
      "Episode 750\tAverage Score: 15.36 eps = 0.02\n",
      "Episode 800\tAverage Score: 15.84 eps = 0.02\n",
      "Episode 850\tAverage Score: 16.55 eps = 0.01\n",
      "Episode 900\tAverage Score: 16.56 eps = 0.01\n",
      "Episode 950\tAverage Score: 16.65 eps = 0.01\n",
      "Episode 1000\tAverage Score: 16.79 eps = 0.01\n"
     ]
    },
    {
     "data": {
      "image/png": "[encoded data removed]",
      "text/plain": [
       "<Figure size 432x288 with 1 Axes>"
      ]
     },
     "metadata": {
      "needs_background": "light"
     },
     "output_type": "display_data"
    }
   ],
   "source": [
    "scores = train(dqn)\n",
    "\n",
    "fig = plt.figure()\n",
    "ax = fig.add_subplot(111)\n",
    "plt.plot(np.arange(len(scores)), scores)\n",
    "plt.ylabel('Score')\n",
    "plt.xlabel('Episode #')\n",
    "plt.show()"
   ]
  },
  {
   "cell_type": "code",
   "execution_count": 6,
   "metadata": {},
   "outputs": [
    {
     "name": "stdout",
     "output_type": "stream",
     "text": [
      "Episode 50\tAverage Score: 0.44 eps = 0.78\n",
      "Episode 100\tAverage Score: 1.00 eps = 0.61\n",
      "Episode 150\tAverage Score: 2.23 eps = 0.47\n",
      "Episode 200\tAverage Score: 3.79 eps = 0.37\n",
      "Episode 250\tAverage Score: 5.83 eps = 0.29\n",
      "Episode 300\tAverage Score: 7.41 eps = 0.22\n",
      "Episode 350\tAverage Score: 8.77 eps = 0.17\n",
      "Episode 400\tAverage Score: 9.98 eps = 0.13\n",
      "Episode 450\tAverage Score: 11.16 eps = 0.10\n",
      "Episode 500\tAverage Score: 12.84 eps = 0.08\n",
      "Episode 504\tAverage Score: 13.05 eps = 0.08\n",
      "Environment solved in 404 episodes!\tAverage Score: 13.05\n",
      "Episode 550\tAverage Score: 13.99 eps = 0.06\n",
      "Episode 600\tAverage Score: 14.67 eps = 0.05\n",
      "Episode 650\tAverage Score: 15.71 eps = 0.04\n",
      "Episode 700\tAverage Score: 16.42 eps = 0.03\n",
      "Episode 750\tAverage Score: 16.64 eps = 0.02\n",
      "Episode 800\tAverage Score: 16.91 eps = 0.02\n",
      "Episode 850\tAverage Score: 16.74 eps = 0.01\n",
      "Episode 900\tAverage Score: 16.44 eps = 0.01\n",
      "Episode 950\tAverage Score: 16.53 eps = 0.01\n",
      "Episode 1000\tAverage Score: 16.95 eps = 0.01\n"
     ]
    },
    {
     "data": {
      "image/png": "[encoded data removed]",
      "text/plain": [
       "<Figure size 432x288 with 1 Axes>"
      ]
     },
     "metadata": {
      "needs_background": "light"
     },
     "output_type": "display_data"
    }
   ],
   "source": [
    "scores = train(ddqn)\n",
    "\n",
    "fig = plt.figure()\n",
    "ax = fig.add_subplot(111)\n",
    "plt.plot(np.arange(len(scores)), scores)\n",
    "plt.ylabel('Score')\n",
    "plt.xlabel('Episode #')\n",
    "plt.show()"
   ]
  },
  {
   "cell_type": "markdown",
   "metadata": {},
   "source": [
    "### Further improvements "
   ]
  },
  {
   "cell_type": "markdown",
   "metadata": {},
   "source": [
    "For further experiments I will:\n",
    "* try different hyperparameters (eg. learning rate, epsilon decay) if learning could be faster and especially if duelling double dqn could learn more efficiently than vanilla dqn\n",
    "* implement prioritized experience replay which samples experiences that result in larger td error more often"
   ]
  },
  {
   "cell_type": "code",
   "execution_count": null,
   "metadata": {},
   "outputs": [],
   "source": []
  }
 ],
 "metadata": {
  "kernelspec": {
   "display_name": "Python 3",
   "language": "python",
   "name": "python3"
  },
  "language_info": {
   "codemirror_mode": {
    "name": "ipython",
    "version": 3
   },
   "file_extension": ".py",
   "mimetype": "text/x-python",
   "name": "python",
   "nbconvert_exporter": "python",
   "pygments_lexer": "ipython3",
   "version": "3.7.6"
  }
 },
 "nbformat": 4,
 "nbformat_minor": 4
}
